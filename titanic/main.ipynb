{
 "cells": [
  {
   "cell_type": "code",
   "execution_count": 3,
   "metadata": {},
   "outputs": [],
   "source": [
    "from fastai.tabular import *\n",
    "from path import Path\n",
    "import pandas as pd"
   ]
  },
  {
   "cell_type": "code",
   "execution_count": 4,
   "metadata": {},
   "outputs": [],
   "source": [
    "path = Path('/home/jupyter/kaggle/titanic/data')"
   ]
  },
  {
   "cell_type": "code",
   "execution_count": 35,
   "metadata": {},
   "outputs": [],
   "source": [
    "df = pd.read_csv(path/'train.csv')\n",
    "cat_names = ['PassengerId', 'Pclass', 'Sex', 'SibSp', 'Parch', 'Ticket', 'Cabin', 'Embarked']\n",
    "cont_names = ['Age', 'Fare']\n",
    "procs = [FillMissing, Categorify, Normalize]\n",
    "dep_var = 'Survived'"
   ]
  },
  {
   "cell_type": "code",
   "execution_count": 39,
   "metadata": {},
   "outputs": [],
   "source": [
    "df_test = pd.read_csv(path/'test.csv')\n",
    "df_test['Fare'] = df_test['Fare'].fillna(0)"
   ]
  },
  {
   "cell_type": "code",
   "execution_count": 40,
   "metadata": {
    "scrolled": true
   },
   "outputs": [],
   "source": [
    "data = (TabularList.from_df(df, path=path, cat_names=cat_names, cont_names=cont_names, procs=procs)\n",
    "        .split_by_idx(list(range(650,len(df))))\n",
    "        .label_from_df(cols=dep_var)\n",
    "        .add_test(TabularList.from_df(df_test, path=path))\n",
    "        .databunch(bs=20))"
   ]
  },
  {
   "cell_type": "code",
   "execution_count": 41,
   "metadata": {},
   "outputs": [
    {
     "data": {
      "text/html": [
       "<table border=\"1\" class=\"dataframe\">\n",
       "  <thead>\n",
       "    <tr style=\"text-align: right;\">\n",
       "      <th>PassengerId</th>\n",
       "      <th>Pclass</th>\n",
       "      <th>Sex</th>\n",
       "      <th>SibSp</th>\n",
       "      <th>Parch</th>\n",
       "      <th>Ticket</th>\n",
       "      <th>Cabin</th>\n",
       "      <th>Embarked</th>\n",
       "      <th>Age_na</th>\n",
       "      <th>Age</th>\n",
       "      <th>Fare</th>\n",
       "      <th>target</th>\n",
       "    </tr>\n",
       "  </thead>\n",
       "  <tbody>\n",
       "    <tr>\n",
       "      <td>94</td>\n",
       "      <td>3</td>\n",
       "      <td>male</td>\n",
       "      <td>1</td>\n",
       "      <td>2</td>\n",
       "      <td>C.A. 2315</td>\n",
       "      <td>#na#</td>\n",
       "      <td>S</td>\n",
       "      <td>False</td>\n",
       "      <td>-0.2671</td>\n",
       "      <td>-0.2412</td>\n",
       "      <td>0</td>\n",
       "    </tr>\n",
       "    <tr>\n",
       "      <td>213</td>\n",
       "      <td>3</td>\n",
       "      <td>male</td>\n",
       "      <td>0</td>\n",
       "      <td>0</td>\n",
       "      <td>A/5 21174</td>\n",
       "      <td>#na#</td>\n",
       "      <td>S</td>\n",
       "      <td>False</td>\n",
       "      <td>-0.5739</td>\n",
       "      <td>-0.5367</td>\n",
       "      <td>0</td>\n",
       "    </tr>\n",
       "    <tr>\n",
       "      <td>365</td>\n",
       "      <td>3</td>\n",
       "      <td>male</td>\n",
       "      <td>1</td>\n",
       "      <td>0</td>\n",
       "      <td>370365</td>\n",
       "      <td>#na#</td>\n",
       "      <td>Q</td>\n",
       "      <td>True</td>\n",
       "      <td>-0.1137</td>\n",
       "      <td>-0.3538</td>\n",
       "      <td>0</td>\n",
       "    </tr>\n",
       "    <tr>\n",
       "      <td>35</td>\n",
       "      <td>1</td>\n",
       "      <td>male</td>\n",
       "      <td>1</td>\n",
       "      <td>0</td>\n",
       "      <td>PC 17604</td>\n",
       "      <td>#na#</td>\n",
       "      <td>C</td>\n",
       "      <td>False</td>\n",
       "      <td>-0.1137</td>\n",
       "      <td>1.1249</td>\n",
       "      <td>0</td>\n",
       "    </tr>\n",
       "    <tr>\n",
       "      <td>338</td>\n",
       "      <td>1</td>\n",
       "      <td>female</td>\n",
       "      <td>0</td>\n",
       "      <td>0</td>\n",
       "      <td>16966</td>\n",
       "      <td>E40</td>\n",
       "      <td>C</td>\n",
       "      <td>False</td>\n",
       "      <td>0.8834</td>\n",
       "      <td>2.2855</td>\n",
       "      <td>1</td>\n",
       "    </tr>\n",
       "    <tr>\n",
       "      <td>430</td>\n",
       "      <td>3</td>\n",
       "      <td>male</td>\n",
       "      <td>0</td>\n",
       "      <td>0</td>\n",
       "      <td>SOTON/O.Q. 392078</td>\n",
       "      <td>E10</td>\n",
       "      <td>S</td>\n",
       "      <td>False</td>\n",
       "      <td>0.1931</td>\n",
       "      <td>-0.5190</td>\n",
       "      <td>1</td>\n",
       "    </tr>\n",
       "    <tr>\n",
       "      <td>633</td>\n",
       "      <td>1</td>\n",
       "      <td>male</td>\n",
       "      <td>0</td>\n",
       "      <td>0</td>\n",
       "      <td>13214</td>\n",
       "      <td>B50</td>\n",
       "      <td>C</td>\n",
       "      <td>False</td>\n",
       "      <td>0.1931</td>\n",
       "      <td>-0.0211</td>\n",
       "      <td>1</td>\n",
       "    </tr>\n",
       "    <tr>\n",
       "      <td>87</td>\n",
       "      <td>3</td>\n",
       "      <td>male</td>\n",
       "      <td>1</td>\n",
       "      <td>3</td>\n",
       "      <td>W./C. 6608</td>\n",
       "      <td>#na#</td>\n",
       "      <td>S</td>\n",
       "      <td>False</td>\n",
       "      <td>-1.0341</td>\n",
       "      <td>0.0649</td>\n",
       "      <td>0</td>\n",
       "    </tr>\n",
       "    <tr>\n",
       "      <td>513</td>\n",
       "      <td>1</td>\n",
       "      <td>male</td>\n",
       "      <td>0</td>\n",
       "      <td>0</td>\n",
       "      <td>PC 17473</td>\n",
       "      <td>E25</td>\n",
       "      <td>S</td>\n",
       "      <td>False</td>\n",
       "      <td>0.4999</td>\n",
       "      <td>-0.1145</td>\n",
       "      <td>1</td>\n",
       "    </tr>\n",
       "    <tr>\n",
       "      <td>646</td>\n",
       "      <td>1</td>\n",
       "      <td>male</td>\n",
       "      <td>1</td>\n",
       "      <td>0</td>\n",
       "      <td>PC 17572</td>\n",
       "      <td>D33</td>\n",
       "      <td>C</td>\n",
       "      <td>False</td>\n",
       "      <td>1.4203</td>\n",
       "      <td>1.0042</td>\n",
       "      <td>1</td>\n",
       "    </tr>\n",
       "  </tbody>\n",
       "</table>"
      ],
      "text/plain": [
       "<IPython.core.display.HTML object>"
      ]
     },
     "metadata": {},
     "output_type": "display_data"
    }
   ],
   "source": [
    "data.show_batch(rows=10)"
   ]
  },
  {
   "cell_type": "code",
   "execution_count": 42,
   "metadata": {},
   "outputs": [],
   "source": [
    "learn = tabular_learner(data, layers=[600, 400], metrics=accuracy, y_range=[0,1.2])"
   ]
  },
  {
   "cell_type": "code",
   "execution_count": 146,
   "metadata": {},
   "outputs": [
    {
     "data": {
      "text/html": [
       "Total time: 00:04 <p><table border=\"1\" class=\"dataframe\">\n",
       "  <thead>\n",
       "    <tr style=\"text-align: left;\">\n",
       "      <th>epoch</th>\n",
       "      <th>train_loss</th>\n",
       "      <th>valid_loss</th>\n",
       "      <th>accuracy</th>\n",
       "      <th>time</th>\n",
       "    </tr>\n",
       "  </thead>\n",
       "  <tbody>\n",
       "    <tr>\n",
       "      <td>0</td>\n",
       "      <td>0.554028</td>\n",
       "      <td>0.466841</td>\n",
       "      <td>0.813278</td>\n",
       "      <td>00:00</td>\n",
       "    </tr>\n",
       "    <tr>\n",
       "      <td>1</td>\n",
       "      <td>0.453778</td>\n",
       "      <td>0.442750</td>\n",
       "      <td>0.842324</td>\n",
       "      <td>00:00</td>\n",
       "    </tr>\n",
       "    <tr>\n",
       "      <td>2</td>\n",
       "      <td>0.405436</td>\n",
       "      <td>0.454521</td>\n",
       "      <td>0.838174</td>\n",
       "      <td>00:00</td>\n",
       "    </tr>\n",
       "    <tr>\n",
       "      <td>3</td>\n",
       "      <td>0.388016</td>\n",
       "      <td>0.450523</td>\n",
       "      <td>0.834025</td>\n",
       "      <td>00:00</td>\n",
       "    </tr>\n",
       "    <tr>\n",
       "      <td>4</td>\n",
       "      <td>0.362071</td>\n",
       "      <td>0.445288</td>\n",
       "      <td>0.842324</td>\n",
       "      <td>00:00</td>\n",
       "    </tr>\n",
       "    <tr>\n",
       "      <td>5</td>\n",
       "      <td>0.347796</td>\n",
       "      <td>0.449578</td>\n",
       "      <td>0.838174</td>\n",
       "      <td>00:00</td>\n",
       "    </tr>\n",
       "  </tbody>\n",
       "</table>"
      ],
      "text/plain": [
       "<IPython.core.display.HTML object>"
      ]
     },
     "metadata": {},
     "output_type": "display_data"
    }
   ],
   "source": [
    "learn.fit(6, 1e-2)"
   ]
  },
  {
   "cell_type": "code",
   "execution_count": 147,
   "metadata": {},
   "outputs": [],
   "source": [
    "learn.save('stage-1')"
   ]
  },
  {
   "cell_type": "code",
   "execution_count": 39,
   "metadata": {},
   "outputs": [
    {
     "data": {
      "image/png": "[encoded data removed]",
      "text/plain": [
       "<Figure size 432x288 with 1 Axes>"
      ]
     },
     "metadata": {
      "needs_background": "light"
     },
     "output_type": "display_data"
    }
   ],
   "source": [
    "learn.recorder.plot()"
   ]
  },
  {
   "cell_type": "code",
   "execution_count": 43,
   "metadata": {
    "scrolled": true
   },
   "outputs": [
    {
     "data": {
      "text/plain": [
       "Learner(data=TabularDataBunch;\n",
       "\n",
       "Train: LabelList (650 items)\n",
       "x: TabularList\n",
       "PassengerId 1; Pclass 3; Sex male; SibSp 1; Parch 0; Ticket A/5 21171; Cabin #na#; Embarked S; Age_na False; Age -0.5739; Fare -0.5367; ,PassengerId 2; Pclass 1; Sex female; SibSp 1; Parch 0; Ticket PC 17599; Cabin C85; Embarked C; Age_na False; Age 0.6533; Fare 0.8835; ,PassengerId 3; Pclass 3; Sex female; SibSp 0; Parch 0; Ticket STON/O2. 3101282; Cabin #na#; Embarked S; Age_na False; Age -0.2671; Fare -0.5218; ,PassengerId 4; Pclass 1; Sex female; SibSp 1; Parch 0; Ticket 113803; Cabin C123; Embarked S; Age_na False; Age 0.4232; Fare 0.4802; ,PassengerId 5; Pclass 3; Sex male; SibSp 0; Parch 0; Ticket 373450; Cabin #na#; Embarked S; Age_na False; Age 0.4232; Fare -0.5190; \n",
       "y: CategoryList\n",
       "0,1,1,1,0\n",
       "Path: /home/jupyter/kaggle/titanic/data;\n",
       "\n",
       "Valid: LabelList (241 items)\n",
       "x: TabularList\n",
       "PassengerId #na#; Pclass 3; Sex male; SibSp 0; Parch 0; Ticket #na#; Cabin #na#; Embarked S; Age_na True; Age -0.1137; Fare -0.5224; ,PassengerId #na#; Pclass 2; Sex female; SibSp 0; Parch 1; Ticket 231919; Cabin #na#; Embarked S; Age_na False; Age -0.8807; Fare -0.1874; ,PassengerId #na#; Pclass 3; Sex male; SibSp 0; Parch 0; Ticket #na#; Cabin #na#; Embarked S; Age_na False; Age -0.6506; Fare -0.5105; ,PassengerId #na#; Pclass 3; Sex female; SibSp 0; Parch 0; Ticket #na#; Cabin #na#; Embarked Q; Age_na True; Age -0.1137; Fare -0.5239; ,PassengerId #na#; Pclass 3; Sex female; SibSp 0; Parch 0; Ticket #na#; Cabin #na#; Embarked Q; Age_na False; Age -0.8807; Fare -0.5478; \n",
       "y: CategoryList\n",
       "0,1,0,1,0\n",
       "Path: /home/jupyter/kaggle/titanic/data;\n",
       "\n",
       "Test: LabelList (418 items)\n",
       "x: TabularList\n",
       "PassengerId #na#; Pclass 3; Sex male; SibSp 0; Parch 0; Ticket #na#; Cabin #na#; Embarked Q; Age_na False; Age 0.3848; Fare -0.5239; ,PassengerId #na#; Pclass 3; Sex female; SibSp 1; Parch 0; Ticket #na#; Cabin #na#; Embarked S; Age_na False; Age 1.3436; Fare -0.5423; ,PassengerId #na#; Pclass 2; Sex male; SibSp 0; Parch 0; Ticket #na#; Cabin #na#; Embarked Q; Age_na False; Age 2.4941; Fare -0.4827; ,PassengerId #na#; Pclass 3; Sex male; SibSp 0; Parch 0; Ticket #na#; Cabin #na#; Embarked S; Age_na False; Age -0.1904; Fare -0.5054; ,PassengerId #na#; Pclass 3; Sex female; SibSp 1; Parch 1; Ticket 3101298; Cabin #na#; Embarked S; Age_na False; Age -0.5739; Fare -0.4250; \n",
       "y: EmptyLabelList\n",
       ",,,,\n",
       "Path: /home/jupyter/kaggle/titanic/data, model=TabularModel(\n",
       "  (embeds): ModuleList(\n",
       "    (0): Embedding(651, 60)\n",
       "    (1): Embedding(4, 3)\n",
       "    (2): Embedding(3, 3)\n",
       "    (3): Embedding(8, 5)\n",
       "    (4): Embedding(7, 5)\n",
       "    (5): Embedding(525, 53)\n",
       "    (6): Embedding(111, 22)\n",
       "    (7): Embedding(4, 3)\n",
       "    (8): Embedding(3, 3)\n",
       "  )\n",
       "  (emb_drop): Dropout(p=0.0)\n",
       "  (bn_cont): BatchNorm1d(2, eps=1e-05, momentum=0.1, affine=True, track_running_stats=True)\n",
       "  (layers): Sequential(\n",
       "    (0): Linear(in_features=159, out_features=600, bias=True)\n",
       "    (1): ReLU(inplace)\n",
       "    (2): BatchNorm1d(600, eps=1e-05, momentum=0.1, affine=True, track_running_stats=True)\n",
       "    (3): Linear(in_features=600, out_features=400, bias=True)\n",
       "    (4): ReLU(inplace)\n",
       "    (5): BatchNorm1d(400, eps=1e-05, momentum=0.1, affine=True, track_running_stats=True)\n",
       "    (6): Linear(in_features=400, out_features=2, bias=True)\n",
       "  )\n",
       "), opt_func=functools.partial(<class 'torch.optim.adam.Adam'>, betas=(0.9, 0.99)), loss_func=FlattenedLoss of CrossEntropyLoss(), metrics=[<function accuracy at 0x7f7715e87158>], true_wd=True, bn_wd=True, wd=0.01, train_bn=True, path=PosixPath('/home/jupyter/kaggle/titanic/data'), model_dir='models', callback_fns=[functools.partial(<class 'fastai.basic_train.Recorder'>, add_time=True)], callbacks=[], layer_groups=[Sequential(\n",
       "  (0): Embedding(651, 60)\n",
       "  (1): Embedding(4, 3)\n",
       "  (2): Embedding(3, 3)\n",
       "  (3): Embedding(8, 5)\n",
       "  (4): Embedding(7, 5)\n",
       "  (5): Embedding(525, 53)\n",
       "  (6): Embedding(111, 22)\n",
       "  (7): Embedding(4, 3)\n",
       "  (8): Embedding(3, 3)\n",
       "  (9): Dropout(p=0.0)\n",
       "  (10): BatchNorm1d(2, eps=1e-05, momentum=0.1, affine=True, track_running_stats=True)\n",
       "  (11): Linear(in_features=159, out_features=600, bias=True)\n",
       "  (12): ReLU(inplace)\n",
       "  (13): BatchNorm1d(600, eps=1e-05, momentum=0.1, affine=True, track_running_stats=True)\n",
       "  (14): Linear(in_features=600, out_features=400, bias=True)\n",
       "  (15): BatchNorm1d(400, eps=1e-05, momentum=0.1, affine=True, track_running_stats=True)\n",
       "  (16): Linear(in_features=400, out_features=2, bias=True)\n",
       ")], add_time=True)"
      ]
     },
     "execution_count": 43,
     "metadata": {},
     "output_type": "execute_result"
    }
   ],
   "source": [
    "learn.load('stage-1')"
   ]
  },
  {
   "cell_type": "code",
   "execution_count": 45,
   "metadata": {},
   "outputs": [],
   "source": [
    "result = learn.get_preds(DatasetType.Test)"
   ]
  },
  {
   "cell_type": "code",
   "execution_count": 22,
   "metadata": {},
   "outputs": [],
   "source": [
    "df_result = pd.DataFrame(columns=['PassengerId', 'Survived'])"
   ]
  },
  {
   "cell_type": "code",
   "execution_count": 65,
   "metadata": {},
   "outputs": [],
   "source": [
    "df_result['PassengerId'] = df_test['PassengerId']\n",
    "df_result['Survived'] = np.round(result[0][:, 1].numpy())\n",
    "df_result['Survived'] = df_result['Survived'].astype(int)"
   ]
  },
  {
   "cell_type": "code",
   "execution_count": 68,
   "metadata": {},
   "outputs": [],
   "source": [
    "df_result.to_csv(path/'submission.csv', index=False)"
   ]
  }
 ],
 "metadata": {
  "kernelspec": {
   "display_name": "Python 3",
   "language": "python",
   "name": "python3"
  },
  "language_info": {
   "codemirror_mode": {
    "name": "ipython",
    "version": 3
   },
   "file_extension": ".py",
   "mimetype": "text/x-python",
   "name": "python",
   "nbconvert_exporter": "python",
   "pygments_lexer": "ipython3",
   "version": "3.7.1"
  }
 },
 "nbformat": 4,
 "nbformat_minor": 2
}
